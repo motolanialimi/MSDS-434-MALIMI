{
 "cells": [
  {
   "cell_type": "markdown",
   "metadata": {},
   "source": [
    "## Speech to Text Analysis\n"
   ]
  },
  {
   "cell_type": "code",
   "execution_count": 2,
   "metadata": {},
   "outputs": [],
   "source": [
    "# Import Speech Recognition Package\n",
    "import os\n",
    "import pandas as pd\n",
    "import speech_recognition as spr\n",
    "import speech_recognition as sr\n",
    "import webbrowser as wb\n",
    "import pafy\n",
    "import vlc\n",
    "import urllib.request\n",
    "from bs4 import BeautifulSoup\n",
    "import time"
   ]
  },
  {
   "cell_type": "markdown",
   "metadata": {},
   "source": [
    "# Let's test it "
   ]
  },
  {
   "cell_type": "code",
   "execution_count": 3,
   "metadata": {},
   "outputs": [],
   "source": [
    "#Create a \"def listen\" function that lets us obtain audio from the mircophone and shows the possible text from the audio\n",
    "\n",
    "def listen():\n",
    "    #obtain audio from the microphone\n",
    "    # Initialize recognizer class (for recognizing the speech)\n",
    "    r = spr.Recognizer()\n",
    "    # Reading Microphone as source\n",
    "    with spr.Microphone() as source:\n",
    "        print(\"Say something!\")\n",
    "        r.adjust_for_ambient_noise(source, duration=0.5)\n",
    "        audio = r.listen(source)\n",
    "    #recognize () speech using Google Speech Recognition method will throw a request error if the API is unreachable, hence using exception handling\n",
    "    try:\n",
    "        # using google speech recognition\n",
    "        var=r.recognize_google(audio)\n",
    "    except spr.UnknownValueError:\n",
    "        var=\"Sorry could not understand audio\"\n",
    "    except spr.RequestError:\n",
    "        var=\" Looks like, there is some problem with Google Speech Recognition\"\n",
    "\n",
    "    return var\n",
    "\n",
    "    #will show all posible text from audio\n",
    "    print(r.recognize_google(audio, show_all=True)) "
   ]
  },
  {
   "cell_type": "code",
   "execution_count": 4,
   "metadata": {},
   "outputs": [
    {
     "name": "stdout",
     "output_type": "stream",
     "text": [
      "Say something!\n"
     ]
    },
    {
     "data": {
      "text/plain": [
       "'hi'"
      ]
     },
     "execution_count": 4,
     "metadata": {},
     "output_type": "execute_result"
    }
   ],
   "source": [
    "#using the function \"listen\"\n",
    "#speak in your microphone\n",
    "\n",
    "listen()"
   ]
  },
  {
   "cell_type": "markdown",
   "metadata": {},
   "source": [
    "# Testing the audio files"
   ]
  },
  {
   "cell_type": "code",
   "execution_count": 5,
   "metadata": {},
   "outputs": [],
   "source": [
    "def Audio1():\n",
    "    # Initialize recognizer class (for recognizing the speech)\n",
    "    r = spr.Recognizer()\n",
    "    # Reading Audio file as source\n",
    "    # listening the audio file and store in audio_text variable\n",
    "    with spr.AudioFile('Audio/noisy_bird_speech.wav') as source:\n",
    "        print('Converting audio transcripts into text ...')\n",
    "        audio_text = r.listen(source)\n",
    "        # recoginize_() method will throw a request error if the API is unreachable, hence using exception handling\n",
    "        try:\n",
    "            # using google speech recognition\n",
    "            text = r.recognize_google(audio_text)\n",
    "        except spr. RequestError:\n",
    "            print(\"Sorry...Please..run again\")\n",
    "        except spr. RequestError:\n",
    "            print('Looks like an error from Google Speech Recognition :-). Thank you for trying')\n",
    "        return text\n",
    "        \n",
    "        print(text, show_all = True)\n"
   ]
  },
  {
   "cell_type": "code",
   "execution_count": 6,
   "metadata": {},
   "outputs": [],
   "source": [
    "def Audio2():\n",
    "    # Initialize recognizer class (for recognizing the speech)\n",
    "    r = spr.Recognizer()\n",
    "    # Reading Audio file as source\n",
    "    # listening the audio file and store in audio_text variable\n",
    "    with spr.AudioFile('Audio\\computerkeyboardcleanspeech.wav') as source:\n",
    "        print('Converting audio transcripts into text ...')\n",
    "        audio_text = r.listen(source)\n",
    "        # recoginize_() method will throw a request error if the API is unreachable, hence using exception handling\n",
    "        try:\n",
    "            # using google speech recognition\n",
    "            text = r.recognize_google(audio_text)\n",
    "        except spr. RequestError:\n",
    "            print(\"Sorry...Please..run again\")\n",
    "        except spr. RequestError:\n",
    "            print('Looks like an error from Google Speech Recognition :-). Thank you for trying')\n",
    "        return text\n",
    "        \n",
    "        print(text, show_all = True)\n",
    "   "
   ]
  },
  {
   "cell_type": "code",
   "execution_count": 7,
   "metadata": {},
   "outputs": [],
   "source": [
    "def Audio3():\n",
    "    # Initialize recognizer class (for recognizing the speech)\n",
    "    r = spr.Recognizer()\n",
    "    # Reading Audio file as source\n",
    "    # listening the audio file and store in audio_text variable\n",
    "    with spr.AudioFile('Audio\\cleancasinospeech.wav') as source:\n",
    "        print('Converting audio transcripts into text ...')\n",
    "        audio_text = r.listen(source)\n",
    "        # recoginize_() method will throw a request error if the API is unreachable, hence using exception handling\n",
    "        try:\n",
    "            # using google speech recognition\n",
    "            text = r.recognize_google(audio_text)\n",
    "        except spr. RequestError:\n",
    "            print(\"Sorry...Please..run again\")\n",
    "        except spr. RequestError:\n",
    "            print('Looks like an error from Google Speech Recognition :-). Thank you for trying')\n",
    "        return text\n",
    "        \n",
    "        print(text, show_all = True)\n",
    "     "
   ]
  },
  {
   "cell_type": "code",
   "execution_count": 8,
   "metadata": {},
   "outputs": [
    {
     "name": "stdout",
     "output_type": "stream",
     "text": [
      "Converting audio transcripts into text ...\n",
      "Here is Audio1(noisy_bird_speech) : Berks News live on smooth plant young actress has 4 reviews of Staff refurbished out loud explosion wipe the grease off of 33\n",
      "Converting audio transcripts into text ...\n",
      "Here is Audio2(computerkeyboard) : the Birch canoe slid on the smooth planks he knew the skill of the great young actress her purse is full of useless trash read verse out loud for pleasure wipe the grease off his dirty face\n",
      "Converting audio transcripts into text ...\n",
      "Here is Audio3(casinospeech) : she has a smart way of wearing clothes bring your best Compass to the third class the club rented the rink for the fifth night the Flint sputtered and Little Pine torch let's all join as we sing the last chorus\n"
     ]
    }
   ],
   "source": [
    "#Let's test our functions Audio1():\n",
    "print(\"Here is Audio1(noisy_bird_speech)\",\":\", Audio1())\n",
    "\n",
    "print(\"Here is Audio2(computerkeyboard)\", \":\", Audio2())\n",
    "\n",
    "print(\"Here is Audio3(casinospeech)\", \":\", Audio3())"
   ]
  },
  {
   "cell_type": "code",
   "execution_count": 9,
   "metadata": {},
   "outputs": [],
   "source": [
    "#Create a Confidence_Audio Functions that lets you see the confidence level of how accurate it is:\n",
    "def Confidence_Audio1():\n",
    "    recog = spr.Recognizer()\n",
    "    bird_noisy_speech = spr.AudioFile('Audio/noisy_bird_speech.wav')\n",
    "    with bird_noisy_speech as noisesource:\n",
    "        print('Confidence level of 85%...')\n",
    "        audio = recog.record(noisesource)\n",
    "        print(recog.recognize_google(audio, show_all = True))"
   ]
  },
  {
   "cell_type": "code",
   "execution_count": 10,
   "metadata": {},
   "outputs": [
    {
     "name": "stdout",
     "output_type": "stream",
     "text": [
      "Confidence level of 85%...\n",
      "{'alternative': [{'transcript': 'Berks News live on smooth plant young actress has 4 reviews of Staff refurbished out loud explosion wipe the grease off of 33', 'confidence': 0.87866062}, {'transcript': 'Berks News live news new plant young actress has 4 reviews of Staff refurbished out loud explosion wipe the grease off of 30 face'}, {'transcript': 'Berks News live on a 2.8 young actress has 4 reviews of Staff refurbished out loud explosion wipe the grease off of 30 face'}, {'transcript': 'Berks News live on smooth plant young actress School reviews of Staff refurbished out loud explosion wipe the grease off of 33'}, {'transcript': 'Berks News live on a 2.8 young actress has 4 reviews of Staff refurbished out loud explosion wipe the grease off of dirty face'}], 'final': True}\n"
     ]
    }
   ],
   "source": [
    "Confidence_Audio1()"
   ]
  },
  {
   "cell_type": "code",
   "execution_count": 11,
   "metadata": {},
   "outputs": [],
   "source": [
    "def Confidence_Audio2():\n",
    "    recog = spr.Recognizer()\n",
    "    noisy_keyboard = spr.AudioFile('Audio\\computerkeyboardcleanspeech.wav')\n",
    "    with noisy_keyboard as noisesource:\n",
    "        print('Confidence leve of 82% ...')\n",
    "        audio = recog.record(noisesource)\n",
    "        print(recog.recognize_google(audio, show_all = True))"
   ]
  },
  {
   "cell_type": "code",
   "execution_count": 12,
   "metadata": {},
   "outputs": [
    {
     "name": "stdout",
     "output_type": "stream",
     "text": [
      "Confidence leve of 82% ...\n",
      "{'alternative': [{'transcript': 'the Birch canoe slid on the smooth planks he knew the skill of the great young actress her purse is full of useless trash read verse out loud for pleasure wipe the grease off his dirty face', 'confidence': 0.82655436}, {'transcript': 'the Birch canoe slid on the smooth planks he knew the scale of the great young actress her purse is full of useless trash read verse out loud for pleasure wipe the grease off his dirty face'}, {'transcript': 'the birds canoe slid on the smooth planks he knew the skill of the great young actress her purse is full of useless trash read verse out loud for pleasure wipe the grease off his dirty face'}, {'transcript': 'doberge canoe slid on the smooth planks he knew the skill of the great young actress her purse is full of useless trash read verse out loud for pleasure wipe the grease off his dirty face'}, {'transcript': 'the birds canoe slid on the smooth planks he knew the scale of the great young actress her purse is full of useless trash read verse out loud for pleasure wipe the grease off his dirty face'}], 'final': True}\n"
     ]
    }
   ],
   "source": [
    "Confidence_Audio2()"
   ]
  },
  {
   "cell_type": "code",
   "execution_count": 13,
   "metadata": {},
   "outputs": [],
   "source": [
    "def Confidence_Audio3():\n",
    "    recog = spr.Recognizer()\n",
    "    bird_noisy_speech = spr.AudioFile('Audio\\cleancasinospeech.wav')\n",
    "    with bird_noisy_speech as noisesource:\n",
    "        print('Confidence level of 76% ...')\n",
    "        audio = recog.record(noisesource)\n",
    "        print(recog.recognize_google(audio, show_all = True))"
   ]
  },
  {
   "cell_type": "code",
   "execution_count": 14,
   "metadata": {},
   "outputs": [
    {
     "name": "stdout",
     "output_type": "stream",
     "text": [
      "Confidence level of 76% ...\n",
      "{'alternative': [{'transcript': \"she has a smart way of wearing clothes bring your best Compass to the third class the club rented the rink for the fifth night the Flint sputtered and Little Pine torch let's all join as we sing the last chorus\", 'confidence': 0.7628448}, {'transcript': \"she has a smart way of wearing clothes bring your best Compass to the third class the club rented the ring for the fifth night the Flint sputtered and Little Pine torch let's all join as we sing the last chorus\"}, {'transcript': \"she has a smart way of wearing clothes bring your best Compass to the third-class the club rented the rink for the fifth night the Flint sputtered and Little Pine torch let's all join as we sing the last chorus\"}, {'transcript': \"she has a smart way of wearing clothes bring your best Compass to the third class the club rented the rink for the fifth night the Flint sputtered and Little Pine torch let's all join as we sing the last course\"}, {'transcript': \"she has a smart way of wearing clothes bring your best Compass to the third class the club rented the rink for the 5th night the Flint sputtered and Little Pine torch let's all join as we sing the last chorus\"}], 'final': True}\n"
     ]
    }
   ],
   "source": [
    "Confidence_Audio3()"
   ]
  },
  {
   "cell_type": "code",
   "execution_count": 19,
   "metadata": {},
   "outputs": [],
   "source": []
  },
  {
   "cell_type": "code",
   "execution_count": null,
   "metadata": {},
   "outputs": [],
   "source": []
  }
 ],
 "metadata": {
  "kernelspec": {
   "display_name": "Python 3",
   "language": "python",
   "name": "python3"
  },
  "language_info": {
   "codemirror_mode": {
    "name": "ipython",
    "version": 3
   },
   "file_extension": ".py",
   "mimetype": "text/x-python",
   "name": "python",
   "nbconvert_exporter": "python",
   "pygments_lexer": "ipython3",
   "version": "3.7.0"
  }
 },
 "nbformat": 4,
 "nbformat_minor": 2
}
